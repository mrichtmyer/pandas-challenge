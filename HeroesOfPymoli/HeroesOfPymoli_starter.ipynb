{
 "cells": [
  {
   "cell_type": "markdown",
   "metadata": {},
   "source": [
    "### Note\n",
    "* Instructions have been included for each segment. You do not have to follow them exactly, but they are included to help you think through the steps."
   ]
  },
  {
   "cell_type": "code",
   "execution_count": 129,
   "metadata": {},
   "outputs": [
    {
     "data": {
      "text/html": [
       "<div>\n",
       "<style scoped>\n",
       "    .dataframe tbody tr th:only-of-type {\n",
       "        vertical-align: middle;\n",
       "    }\n",
       "\n",
       "    .dataframe tbody tr th {\n",
       "        vertical-align: top;\n",
       "    }\n",
       "\n",
       "    .dataframe thead th {\n",
       "        text-align: right;\n",
       "    }\n",
       "</style>\n",
       "<table border=\"1\" class=\"dataframe\">\n",
       "  <thead>\n",
       "    <tr style=\"text-align: right;\">\n",
       "      <th></th>\n",
       "      <th>Purchase ID</th>\n",
       "      <th>SN</th>\n",
       "      <th>Age</th>\n",
       "      <th>Gender</th>\n",
       "      <th>Item ID</th>\n",
       "      <th>Item Name</th>\n",
       "      <th>Price</th>\n",
       "    </tr>\n",
       "  </thead>\n",
       "  <tbody>\n",
       "    <tr>\n",
       "      <th>0</th>\n",
       "      <td>0</td>\n",
       "      <td>Lisim78</td>\n",
       "      <td>20</td>\n",
       "      <td>Male</td>\n",
       "      <td>108</td>\n",
       "      <td>Extraction, Quickblade Of Trembling Hands</td>\n",
       "      <td>3.53</td>\n",
       "    </tr>\n",
       "    <tr>\n",
       "      <th>1</th>\n",
       "      <td>1</td>\n",
       "      <td>Lisovynya38</td>\n",
       "      <td>40</td>\n",
       "      <td>Male</td>\n",
       "      <td>143</td>\n",
       "      <td>Frenzied Scimitar</td>\n",
       "      <td>1.56</td>\n",
       "    </tr>\n",
       "    <tr>\n",
       "      <th>2</th>\n",
       "      <td>2</td>\n",
       "      <td>Ithergue48</td>\n",
       "      <td>24</td>\n",
       "      <td>Male</td>\n",
       "      <td>92</td>\n",
       "      <td>Final Critic</td>\n",
       "      <td>4.88</td>\n",
       "    </tr>\n",
       "    <tr>\n",
       "      <th>3</th>\n",
       "      <td>3</td>\n",
       "      <td>Chamassasya86</td>\n",
       "      <td>24</td>\n",
       "      <td>Male</td>\n",
       "      <td>100</td>\n",
       "      <td>Blindscythe</td>\n",
       "      <td>3.27</td>\n",
       "    </tr>\n",
       "    <tr>\n",
       "      <th>4</th>\n",
       "      <td>4</td>\n",
       "      <td>Iskosia90</td>\n",
       "      <td>23</td>\n",
       "      <td>Male</td>\n",
       "      <td>131</td>\n",
       "      <td>Fury</td>\n",
       "      <td>1.44</td>\n",
       "    </tr>\n",
       "  </tbody>\n",
       "</table>\n",
       "</div>"
      ],
      "text/plain": [
       "   Purchase ID             SN  Age Gender  Item ID  \\\n",
       "0            0        Lisim78   20   Male      108   \n",
       "1            1    Lisovynya38   40   Male      143   \n",
       "2            2     Ithergue48   24   Male       92   \n",
       "3            3  Chamassasya86   24   Male      100   \n",
       "4            4      Iskosia90   23   Male      131   \n",
       "\n",
       "                                   Item Name  Price  \n",
       "0  Extraction, Quickblade Of Trembling Hands   3.53  \n",
       "1                          Frenzied Scimitar   1.56  \n",
       "2                               Final Critic   4.88  \n",
       "3                                Blindscythe   3.27  \n",
       "4                                       Fury   1.44  "
      ]
     },
     "execution_count": 129,
     "metadata": {},
     "output_type": "execute_result"
    }
   ],
   "source": [
    "# Dependencies and Setup\n",
    "import pandas as pd\n",
    "import numpy as np\n",
    "\n",
    "# File to Load (Remember to Change These)\n",
    "file_to_load = \"Resources/purchase_data.csv\"\n",
    "\n",
    "# Read Purchasing File and store into Pandas data frame\n",
    "purchase_data = pd.read_csv(file_to_load)\n",
    "\n",
    "purchase_data.head()"
   ]
  },
  {
   "cell_type": "markdown",
   "metadata": {},
   "source": [
    "## Player Count"
   ]
  },
  {
   "cell_type": "markdown",
   "metadata": {},
   "source": [
    "* Display the total number of players\n"
   ]
  },
  {
   "cell_type": "code",
   "execution_count": 45,
   "metadata": {},
   "outputs": [
    {
     "data": {
      "text/html": [
       "<div>\n",
       "<style scoped>\n",
       "    .dataframe tbody tr th:only-of-type {\n",
       "        vertical-align: middle;\n",
       "    }\n",
       "\n",
       "    .dataframe tbody tr th {\n",
       "        vertical-align: top;\n",
       "    }\n",
       "\n",
       "    .dataframe thead th {\n",
       "        text-align: right;\n",
       "    }\n",
       "</style>\n",
       "<table border=\"1\" class=\"dataframe\">\n",
       "  <thead>\n",
       "    <tr style=\"text-align: right;\">\n",
       "      <th></th>\n",
       "      <th>Total Players</th>\n",
       "    </tr>\n",
       "  </thead>\n",
       "  <tbody>\n",
       "    <tr>\n",
       "      <th>0</th>\n",
       "      <td>576</td>\n",
       "    </tr>\n",
       "  </tbody>\n",
       "</table>\n",
       "</div>"
      ],
      "text/plain": [
       "   Total Players\n",
       "0            576"
      ]
     },
     "execution_count": 45,
     "metadata": {},
     "output_type": "execute_result"
    }
   ],
   "source": [
    "total_players = len(purchase_data[\"SN\"].unique())\n",
    "df_total_players = pd.DataFrame({\"Total Players\": [total_players]})\n",
    "df_total_players"
   ]
  },
  {
   "cell_type": "markdown",
   "metadata": {},
   "source": [
    "## Purchasing Analysis (Total)"
   ]
  },
  {
   "cell_type": "markdown",
   "metadata": {},
   "source": [
    "* Run basic calculations to obtain number of unique items, average price, etc.\n",
    "\n",
    "\n",
    "* Create a summary data frame to hold the results\n",
    "\n",
    "\n",
    "* Optional: give the displayed data cleaner formatting\n",
    "\n",
    "\n",
    "* Display the summary data frame\n"
   ]
  },
  {
   "cell_type": "code",
   "execution_count": 3,
   "metadata": {},
   "outputs": [
    {
     "data": {
      "text/html": [
       "<div>\n",
       "<style scoped>\n",
       "    .dataframe tbody tr th:only-of-type {\n",
       "        vertical-align: middle;\n",
       "    }\n",
       "\n",
       "    .dataframe tbody tr th {\n",
       "        vertical-align: top;\n",
       "    }\n",
       "\n",
       "    .dataframe thead th {\n",
       "        text-align: right;\n",
       "    }\n",
       "</style>\n",
       "<table border=\"1\" class=\"dataframe\">\n",
       "  <thead>\n",
       "    <tr style=\"text-align: right;\">\n",
       "      <th></th>\n",
       "      <th>Number of Unique Items</th>\n",
       "      <th>Average Price</th>\n",
       "      <th>Number of Purchases</th>\n",
       "      <th>Total Revenue</th>\n",
       "    </tr>\n",
       "  </thead>\n",
       "  <tbody>\n",
       "    <tr>\n",
       "      <th>0</th>\n",
       "      <td>183</td>\n",
       "      <td>3.05</td>\n",
       "      <td>780</td>\n",
       "      <td>2379.77</td>\n",
       "    </tr>\n",
       "  </tbody>\n",
       "</table>\n",
       "</div>"
      ],
      "text/plain": [
       "   Number of Unique Items  Average Price  Number of Purchases  Total Revenue\n",
       "0                     183           3.05                  780        2379.77"
      ]
     },
     "execution_count": 3,
     "metadata": {},
     "output_type": "execute_result"
    }
   ],
   "source": [
    "# Calculate Purchase Analysis metrics\n",
    "num_items = len(purchase_data[\"Item ID\"].unique())\n",
    "avg_price = np.round(purchase_data[\"Price\"].mean(),decimals=2)\n",
    "num_purchase = len(purchase_data)\n",
    "total_revenue = np.round(purchase_data[\"Price\"].sum(), decimals=2)\n",
    "\n",
    "# Create summary dataframe\n",
    "df_summary = pd.DataFrame({\"Number of Unique Items\": [num_items], \"Average Price\": avg_price,\n",
    "                           \"Number of Purchases\": num_purchase, \"Total Revenue\": total_revenue})\n",
    "\n",
    "# come back and reformat\n",
    "\n",
    "df_summary.head()"
   ]
  },
  {
   "cell_type": "markdown",
   "metadata": {},
   "source": [
    "## Gender Demographics"
   ]
  },
  {
   "cell_type": "markdown",
   "metadata": {},
   "source": [
    "* Percentage and Count of Male Players\n",
    "\n",
    "\n",
    "* Percentage and Count of Female Players\n",
    "\n",
    "\n",
    "* Percentage and Count of Other / Non-Disclosed\n",
    "\n",
    "\n"
   ]
  },
  {
   "cell_type": "code",
   "execution_count": 4,
   "metadata": {},
   "outputs": [
    {
     "data": {
      "text/html": [
       "<div>\n",
       "<style scoped>\n",
       "    .dataframe tbody tr th:only-of-type {\n",
       "        vertical-align: middle;\n",
       "    }\n",
       "\n",
       "    .dataframe tbody tr th {\n",
       "        vertical-align: top;\n",
       "    }\n",
       "\n",
       "    .dataframe thead th {\n",
       "        text-align: right;\n",
       "    }\n",
       "</style>\n",
       "<table border=\"1\" class=\"dataframe\">\n",
       "  <thead>\n",
       "    <tr style=\"text-align: right;\">\n",
       "      <th></th>\n",
       "      <th>Total Count</th>\n",
       "      <th>Percentage of Players</th>\n",
       "    </tr>\n",
       "  </thead>\n",
       "  <tbody>\n",
       "    <tr>\n",
       "      <th>Female</th>\n",
       "      <td>81</td>\n",
       "      <td>14.06</td>\n",
       "    </tr>\n",
       "    <tr>\n",
       "      <th>Male</th>\n",
       "      <td>484</td>\n",
       "      <td>84.03</td>\n",
       "    </tr>\n",
       "    <tr>\n",
       "      <th>Other / Non-Disclosed</th>\n",
       "      <td>11</td>\n",
       "      <td>1.91</td>\n",
       "    </tr>\n",
       "  </tbody>\n",
       "</table>\n",
       "</div>"
      ],
      "text/plain": [
       "                       Total Count  Percentage of Players\n",
       "Female                          81                  14.06\n",
       "Male                           484                  84.03\n",
       "Other / Non-Disclosed           11                   1.91"
      ]
     },
     "execution_count": 4,
     "metadata": {},
     "output_type": "execute_result"
    }
   ],
   "source": [
    "# really nifty - sort by \"Gender\" but filter by unique entries in \"SN\"\n",
    "# link -- https://stackoverflow.com/questions/38309729/count-unique-values-with-pandas-per-groups\n",
    "\n",
    "# still have to reformat \"Percentage of Players\" column with percentage sign\n",
    "gb = purchase_data.groupby([\"Gender\"])[\"SN\"].nunique()\n",
    "total_count = [x for x in gb]\n",
    "percentage_of_players = [np.round(x/np.sum(total_count),decimals=4)*100 for x in gb]\n",
    "\n",
    "df_gender = pd.DataFrame({\"Total Count\":total_count, \"Percentage of Players\": percentage_of_players},\n",
    "                        index=[\"Female\",\"Male\",\"Other / Non-Disclosed\"])\n",
    "df_gender"
   ]
  },
  {
   "cell_type": "markdown",
   "metadata": {},
   "source": [
    "\n",
    "## Purchasing Analysis (Gender)"
   ]
  },
  {
   "cell_type": "markdown",
   "metadata": {},
   "source": [
    "* Run basic calculations to obtain purchase count, avg. purchase price, avg. purchase total per person etc. by gender\n",
    "\n",
    "\n",
    "\n",
    "\n",
    "* Create a summary data frame to hold the results\n",
    "\n",
    "\n",
    "* Optional: give the displayed data cleaner formatting\n",
    "\n",
    "\n",
    "* Display the summary data frame"
   ]
  },
  {
   "cell_type": "code",
   "execution_count": 5,
   "metadata": {},
   "outputs": [
    {
     "data": {
      "text/plain": [
       "3.203008849557519"
      ]
     },
     "execution_count": 5,
     "metadata": {},
     "output_type": "execute_result"
    }
   ],
   "source": [
    "gb2 = purchase_data.groupby([\"Gender\"])\n",
    "gb2 = dict(list(gb2))\n",
    "gb2[\"Female\"][\"Price\"].mean()"
   ]
  },
  {
   "cell_type": "code",
   "execution_count": 6,
   "metadata": {},
   "outputs": [],
   "source": [
    "# purchase count\n",
    "purchase_count = [len(gb2[\"Female\"]), len(gb2[\"Male\"]), len(gb2[\"Other / Non-Disclosed\"])]\n",
    "\n",
    "# average purchase price\n",
    "avg_purchase_price = [gb2[\"Female\"][\"Price\"].mean(), gb2[\"Male\"][\"Price\"].mean(), gb2[\"Other / Non-Disclosed\"][\"Price\"].mean()]\n",
    "avg_purchase_price = [np.round(x,decimals=2) for x in avg_purchase_price]\n",
    "\n",
    "# total purchase value\n",
    "total_purchase_value = [gb2[\"Female\"][\"Price\"].sum(), gb2[\"Male\"][\"Price\"].sum(), gb2[\"Other / Non-Disclosed\"][\"Price\"].sum()]"
   ]
  },
  {
   "cell_type": "code",
   "execution_count": 7,
   "metadata": {},
   "outputs": [],
   "source": [
    "# Create function to calculate amount of money spent per gender\n",
    "def dict_totals_per_gender(gender_key):\n",
    "    \"\"\" Docstring: dict_totals_per_gender takes input key (as a string) and returns a dictionary of all unique\n",
    "    players for that gender with their corresonding purchase total. Also returns the mean value spent per gender.\n",
    "    To be used for general gender purchase analysis\"\"\"\n",
    "    \n",
    "    # grab list of unique names\n",
    "    unique_names = list(gb2[gender_key][\"SN\"].unique())\n",
    "    # preallocate a dictionary with keys as screen name and values as zero\n",
    "    totals = {keys:0 for keys in unique_names}\n",
    "    \n",
    "    # for every key in totals, pull a subset dataframe consisting of only that person's purchases and sum them\n",
    "    for key in totals:\n",
    "        df_temp = purchase_data.loc[purchase_data[\"SN\"]==key,:]\n",
    "        totals[key] += df_temp[\"Price\"].sum()\n",
    "    \n",
    "    return totals, pd.Series([totals[k] for k in totals]).mean()\n",
    "\n",
    "## Use function declared above to calculate spend per gender ##\n",
    "# Avg Total Per Person\n",
    "f_total, f_mean = dict_totals_per_gender(\"Female\")\n",
    "m_total, m_mean = dict_totals_per_gender(\"Male\")\n",
    "o_total, o_mean = dict_totals_per_gender(\"Other / Non-Disclosed\")\n",
    "\n",
    "avg_price_per_gender = [f_mean, m_mean, o_mean]\n",
    "avg_price_per_gender = list(np.round(np.asarray(avg_price_per_gender),decimals=2))   "
   ]
  },
  {
   "cell_type": "code",
   "execution_count": 8,
   "metadata": {},
   "outputs": [
    {
     "data": {
      "text/html": [
       "<div>\n",
       "<style scoped>\n",
       "    .dataframe tbody tr th:only-of-type {\n",
       "        vertical-align: middle;\n",
       "    }\n",
       "\n",
       "    .dataframe tbody tr th {\n",
       "        vertical-align: top;\n",
       "    }\n",
       "\n",
       "    .dataframe thead th {\n",
       "        text-align: right;\n",
       "    }\n",
       "</style>\n",
       "<table border=\"1\" class=\"dataframe\">\n",
       "  <thead>\n",
       "    <tr style=\"text-align: right;\">\n",
       "      <th></th>\n",
       "      <th>Purchase Count</th>\n",
       "      <th>Average Purchase Price</th>\n",
       "      <th>Total Purchase Value</th>\n",
       "      <th>Average Total Per Person</th>\n",
       "    </tr>\n",
       "  </thead>\n",
       "  <tbody>\n",
       "    <tr>\n",
       "      <th>Female</th>\n",
       "      <td>113</td>\n",
       "      <td>3.20</td>\n",
       "      <td>361.94</td>\n",
       "      <td>4.47</td>\n",
       "    </tr>\n",
       "    <tr>\n",
       "      <th>Male</th>\n",
       "      <td>652</td>\n",
       "      <td>3.02</td>\n",
       "      <td>1967.64</td>\n",
       "      <td>4.07</td>\n",
       "    </tr>\n",
       "    <tr>\n",
       "      <th>Other / Non-Disclosed</th>\n",
       "      <td>15</td>\n",
       "      <td>3.35</td>\n",
       "      <td>50.19</td>\n",
       "      <td>4.56</td>\n",
       "    </tr>\n",
       "  </tbody>\n",
       "</table>\n",
       "</div>"
      ],
      "text/plain": [
       "                       Purchase Count  Average Purchase Price  \\\n",
       "Female                            113                    3.20   \n",
       "Male                              652                    3.02   \n",
       "Other / Non-Disclosed              15                    3.35   \n",
       "\n",
       "                       Total Purchase Value  Average Total Per Person  \n",
       "Female                               361.94                      4.47  \n",
       "Male                                1967.64                      4.07  \n",
       "Other / Non-Disclosed                 50.19                      4.56  "
      ]
     },
     "execution_count": 8,
     "metadata": {},
     "output_type": "execute_result"
    }
   ],
   "source": [
    "## Construct dataframe ## - come back to reformat\n",
    "df_gender_purchasing = pd.DataFrame({\"Purchase Count\": purchase_count, \"Average Purchase Price\": avg_purchase_price,\n",
    "                                     \"Total Purchase Value\": total_purchase_value, \"Average Total Per Person\": avg_price_per_gender},\n",
    "                                   index=[\"Female\",\"Male\",\"Other / Non-Disclosed\"])\n",
    "df_gender_purchasing"
   ]
  },
  {
   "cell_type": "markdown",
   "metadata": {},
   "source": [
    "## Age Demographics"
   ]
  },
  {
   "cell_type": "markdown",
   "metadata": {},
   "source": [
    "* Establish bins for ages\n",
    "\n",
    "\n",
    "* Categorize the existing players using the age bins. Hint: use pd.cut()\n",
    "\n",
    "\n",
    "* Calculate the numbers and percentages by age group\n",
    "\n",
    "\n",
    "* Create a summary data frame to hold the results\n",
    "\n",
    "\n",
    "* Optional: round the percentage column to two decimal points\n",
    "\n",
    "\n",
    "* Display Age Demographics Table\n"
   ]
  },
  {
   "cell_type": "code",
   "execution_count": 21,
   "metadata": {},
   "outputs": [
    {
     "data": {
      "text/html": [
       "<div>\n",
       "<style scoped>\n",
       "    .dataframe tbody tr th:only-of-type {\n",
       "        vertical-align: middle;\n",
       "    }\n",
       "\n",
       "    .dataframe tbody tr th {\n",
       "        vertical-align: top;\n",
       "    }\n",
       "\n",
       "    .dataframe thead th {\n",
       "        text-align: right;\n",
       "    }\n",
       "</style>\n",
       "<table border=\"1\" class=\"dataframe\">\n",
       "  <thead>\n",
       "    <tr style=\"text-align: right;\">\n",
       "      <th></th>\n",
       "      <th>Total Count</th>\n",
       "      <th>Percentage of Players</th>\n",
       "    </tr>\n",
       "  </thead>\n",
       "  <tbody>\n",
       "    <tr>\n",
       "      <th>&lt;10</th>\n",
       "      <td>23</td>\n",
       "      <td>2.95</td>\n",
       "    </tr>\n",
       "    <tr>\n",
       "      <th>10-14</th>\n",
       "      <td>28</td>\n",
       "      <td>3.59</td>\n",
       "    </tr>\n",
       "    <tr>\n",
       "      <th>15-19</th>\n",
       "      <td>136</td>\n",
       "      <td>17.44</td>\n",
       "    </tr>\n",
       "    <tr>\n",
       "      <th>20-24</th>\n",
       "      <td>365</td>\n",
       "      <td>46.79</td>\n",
       "    </tr>\n",
       "    <tr>\n",
       "      <th>25-29</th>\n",
       "      <td>101</td>\n",
       "      <td>12.95</td>\n",
       "    </tr>\n",
       "    <tr>\n",
       "      <th>30-34</th>\n",
       "      <td>73</td>\n",
       "      <td>9.36</td>\n",
       "    </tr>\n",
       "    <tr>\n",
       "      <th>35-39</th>\n",
       "      <td>41</td>\n",
       "      <td>5.26</td>\n",
       "    </tr>\n",
       "    <tr>\n",
       "      <th>40+</th>\n",
       "      <td>13</td>\n",
       "      <td>1.67</td>\n",
       "    </tr>\n",
       "  </tbody>\n",
       "</table>\n",
       "</div>"
      ],
      "text/plain": [
       "       Total Count  Percentage of Players\n",
       "<10             23                   2.95\n",
       "10-14           28                   3.59\n",
       "15-19          136                  17.44\n",
       "20-24          365                  46.79\n",
       "25-29          101                  12.95\n",
       "30-34           73                   9.36\n",
       "35-39           41                   5.26\n",
       "40+             13                   1.67"
      ]
     },
     "execution_count": 21,
     "metadata": {},
     "output_type": "execute_result"
    }
   ],
   "source": [
    "## Come back: need to reformat and check values in Total count ##\n",
    "# Check with TA's - looks like charts in Age Demographics and Purchase Analysis are different (even though\n",
    "# though they should be the same)\n",
    "\n",
    "# create bins for cut\n",
    "bins = [0,10,15,20,25,30,35,40,purchase_data[\"Age\"].max() + 1]\n",
    "#bins = [0,9,14,19,24,29,34,39,purchase_data[\"Age\"].max() + 1]\n",
    "# create bin labels\n",
    "bin_labels = [\"<10\", \"10-14\",\"15-19\",\"20-24\",\"25-29\",\"30-34\",\"35-39\",\"40+\"]\n",
    "# preallocate dataframe\n",
    "df_age_demographics = pd.DataFrame()\n",
    "# pull the age column from purchase data\n",
    "df_age_demographics[\"Age\"] = purchase_data[\"Age\"]\n",
    "# cut the purchase_data DataFrame to categorize population by age group\n",
    "df_age_demographics[\"Age Groups\"] = pd.cut(purchase_data[\"Age\"],bins=bins, labels=bin_labels, include_lowest=True, right=False)\n",
    "# group by age categories we defined in bin labels\n",
    "gb3 = df_age_demographics.groupby(\"Age Groups\").count()\n",
    "# format percentage of age group\n",
    "percent_age_group = [age/gb3[\"Age\"].sum()*100 for age in gb3[\"Age\"]]\n",
    "percent_age_group = np.round(percent_age_group,decimals=2)\n",
    "\n",
    "# build summary DataFrame\n",
    "df_age_demographics = pd.DataFrame({\"Total Count\": gb3[\"Age\"], \"Percentage of Players\": percent_age_group},\n",
    "                                   index=bin_labels)\n",
    "\n",
    "# display dataframe\n",
    "df_age_demographics"
   ]
  },
  {
   "cell_type": "code",
   "execution_count": null,
   "metadata": {},
   "outputs": [],
   "source": []
  },
  {
   "cell_type": "code",
   "execution_count": null,
   "metadata": {},
   "outputs": [],
   "source": []
  },
  {
   "cell_type": "markdown",
   "metadata": {},
   "source": [
    "## Purchasing Analysis (Age)"
   ]
  },
  {
   "cell_type": "markdown",
   "metadata": {},
   "source": [
    "* Bin the purchase_data data frame by age\n",
    "\n",
    "\n",
    "* Run basic calculations to obtain purchase count, avg. purchase price, avg. purchase total per person etc. in the table below\n",
    "\n",
    "\n",
    "* Create a summary data frame to hold the results\n",
    "\n",
    "\n",
    "* Optional: give the displayed data cleaner formatting\n",
    "\n",
    "\n",
    "* Display the summary data frame"
   ]
  },
  {
   "cell_type": "code",
   "execution_count": 47,
   "metadata": {},
   "outputs": [],
   "source": [
    "# come back and reformat\n",
    "# Create function to calculate amount of money spent per age bracket\n",
    "def dict_totals_per_age(df_temp):\n",
    "    \"\"\" Docstring: dict_totals_per_age takes input key (as a string) and returns a dictionary of all unique\n",
    "    players for that age group with their corresonding purchase total. Also returns the mean value spent per age bracket.\n",
    "    To be used for general age purchase analysis\"\"\"\n",
    "    \n",
    "    # grab list of unique names\n",
    "    unique_names = list(df_temp[\"SN\"].unique())\n",
    "    # preallocate a dictionary with keys as screen name and values as zero\n",
    "    totals = {keys:0 for keys in unique_names}\n",
    "    \n",
    "    # for every key in totals, pull a subset dataframe consisting of only that person's purchases and sum them\n",
    "    for key in totals:\n",
    "        df_temp = purchase_data.loc[purchase_data[\"SN\"]==key,:]\n",
    "        totals[key] += df_temp[\"Price\"].sum()\n",
    "        \n",
    "    avg_price = pd.Series([totals[k] for k in totals]).mean()\n",
    "    \n",
    "    return totals, avg_price"
   ]
  },
  {
   "cell_type": "code",
   "execution_count": 93,
   "metadata": {},
   "outputs": [],
   "source": [
    "list_avg_total_per_age = []\n",
    "avg_purchase_price = []\n",
    "total_purchase_price = []\n",
    "\n",
    "# under 10\n",
    "df_under10 = purchase_data.loc[purchase_data[\"Age\"] < 10,:]\n",
    "totals, avg_price = dict_totals_per_age(df_under10)\n",
    "avg_purchase_price.append(df_under10[\"Price\"].mean())\n",
    "total_purchase_price.append(df_under10[\"Price\"].sum())\n",
    "list_avg_total_per_age.append(avg_price)\n",
    "\n",
    "# 10 to 14\n",
    "df_10to14 = purchase_data.loc[(purchase_data[\"Age\"] >= 10) & (purchase_data[\"Age\"] < 15),:]\n",
    "totals, avg_price = dict_totals_per_age(df_10to14)\n",
    "avg_purchase_price.append(df_10to14[\"Price\"].mean())\n",
    "total_purchase_price.append(df_10to14[\"Price\"].sum())\n",
    "list_avg_total_per_age.append(avg_price)\n",
    "\n",
    "# 15 to 19\n",
    "df_15to19 = purchase_data.loc[(purchase_data[\"Age\"] >= 15) & (purchase_data[\"Age\"] < 20),:]\n",
    "totals, avg_price = dict_totals_per_age(df_15to19)\n",
    "avg_purchase_price.append(df_15to19[\"Price\"].mean())\n",
    "total_purchase_price.append(df_15to19[\"Price\"].sum())\n",
    "list_avg_total_per_age.append(avg_price)\n",
    "\n",
    "# 20 to 24\n",
    "df_20to24 = purchase_data.loc[(purchase_data[\"Age\"] >=20) & (purchase_data[\"Age\"] < 25), :]\n",
    "totals, avg_price = dict_totals_per_age(df_20to24)\n",
    "avg_purchase_price.append(df_20to24[\"Price\"].mean())\n",
    "total_purchase_price.append(df_20to24[\"Price\"].sum())\n",
    "list_avg_total_per_age.append(avg_price)\n",
    "\n",
    "# 25 to 29\n",
    "df_25to29 = purchase_data.loc[(purchase_data[\"Age\"] >=25) & (purchase_data[\"Age\"] < 30), :]\n",
    "totals, avg_price = dict_totals_per_age(df_25to29)\n",
    "avg_purchase_price.append(df_25to29[\"Price\"].mean())\n",
    "total_purchase_price.append(df_25to29[\"Price\"].sum())\n",
    "list_avg_total_per_age.append(avg_price)\n",
    "\n",
    "# 30 to 34\n",
    "df_30to34 = purchase_data.loc[(purchase_data[\"Age\"] >=30) & (purchase_data[\"Age\"] < 35), :]\n",
    "totals, avg_price = dict_totals_per_age(df_30to34)\n",
    "avg_purchase_price.append(df_30to34[\"Price\"].mean())\n",
    "total_purchase_price.append(df_30to34[\"Price\"].sum())\n",
    "list_avg_total_per_age.append(avg_price)\n",
    "\n",
    "# 35 to 39\n",
    "df_35to39 = purchase_data.loc[(purchase_data[\"Age\"] >=35) & (purchase_data[\"Age\"] < 40), :]\n",
    "totals, avg_price = dict_totals_per_age(df_35to39)\n",
    "avg_purchase_price.append(df_35to39[\"Price\"].mean())\n",
    "total_purchase_price.append(df_35to39[\"Price\"].sum())\n",
    "list_avg_total_per_age.append(avg_price)\n",
    "\n",
    "df_over40 = purchase_data.loc[purchase_data[\"Age\"] >= 40, :]\n",
    "totals, avg_price = dict_totals_per_age(df_over40)\n",
    "avg_purchase_price.append(df_over40[\"Price\"].mean())\n",
    "total_purchase_price.append(df_over40[\"Price\"].sum())\n",
    "list_avg_total_per_age.append(avg_price)"
   ]
  },
  {
   "cell_type": "code",
   "execution_count": 98,
   "metadata": {},
   "outputs": [],
   "source": [
    "# round all averages to two decimals\n",
    "list_avg_total_per_age = [np.round(x, decimals=2) for x in list_avg_total_per_age]\n",
    "avg_purchase_price = [np.round(x, decimals=2) for x in avg_purchase_price]\n",
    "total_purchase_price = [np.round(x, decimals=2) for x in total_purchase_price]"
   ]
  },
  {
   "cell_type": "code",
   "execution_count": 105,
   "metadata": {},
   "outputs": [
    {
     "data": {
      "text/html": [
       "<div>\n",
       "<style scoped>\n",
       "    .dataframe tbody tr th:only-of-type {\n",
       "        vertical-align: middle;\n",
       "    }\n",
       "\n",
       "    .dataframe tbody tr th {\n",
       "        vertical-align: top;\n",
       "    }\n",
       "\n",
       "    .dataframe thead th {\n",
       "        text-align: right;\n",
       "    }\n",
       "</style>\n",
       "<table border=\"1\" class=\"dataframe\">\n",
       "  <thead>\n",
       "    <tr style=\"text-align: right;\">\n",
       "      <th></th>\n",
       "      <th>Purchase Count</th>\n",
       "      <th>Average Purchase Price</th>\n",
       "      <th>Total Purchase Price</th>\n",
       "      <th>Avg Total Price Per Person</th>\n",
       "    </tr>\n",
       "    <tr>\n",
       "      <th>Age Groups</th>\n",
       "      <th></th>\n",
       "      <th></th>\n",
       "      <th></th>\n",
       "      <th></th>\n",
       "    </tr>\n",
       "  </thead>\n",
       "  <tbody>\n",
       "    <tr>\n",
       "      <th>&lt;10</th>\n",
       "      <td>23</td>\n",
       "      <td>3.35</td>\n",
       "      <td>77.13</td>\n",
       "      <td>4.54</td>\n",
       "    </tr>\n",
       "    <tr>\n",
       "      <th>10-14</th>\n",
       "      <td>28</td>\n",
       "      <td>2.96</td>\n",
       "      <td>82.78</td>\n",
       "      <td>3.76</td>\n",
       "    </tr>\n",
       "    <tr>\n",
       "      <th>15-19</th>\n",
       "      <td>136</td>\n",
       "      <td>3.04</td>\n",
       "      <td>412.89</td>\n",
       "      <td>3.86</td>\n",
       "    </tr>\n",
       "    <tr>\n",
       "      <th>20-24</th>\n",
       "      <td>365</td>\n",
       "      <td>3.05</td>\n",
       "      <td>1114.06</td>\n",
       "      <td>4.32</td>\n",
       "    </tr>\n",
       "    <tr>\n",
       "      <th>25-29</th>\n",
       "      <td>101</td>\n",
       "      <td>2.90</td>\n",
       "      <td>293.00</td>\n",
       "      <td>3.81</td>\n",
       "    </tr>\n",
       "    <tr>\n",
       "      <th>30-34</th>\n",
       "      <td>73</td>\n",
       "      <td>2.93</td>\n",
       "      <td>214.00</td>\n",
       "      <td>4.12</td>\n",
       "    </tr>\n",
       "    <tr>\n",
       "      <th>35-39</th>\n",
       "      <td>41</td>\n",
       "      <td>3.60</td>\n",
       "      <td>147.67</td>\n",
       "      <td>4.76</td>\n",
       "    </tr>\n",
       "    <tr>\n",
       "      <th>40+</th>\n",
       "      <td>13</td>\n",
       "      <td>2.94</td>\n",
       "      <td>38.24</td>\n",
       "      <td>3.19</td>\n",
       "    </tr>\n",
       "  </tbody>\n",
       "</table>\n",
       "</div>"
      ],
      "text/plain": [
       "            Purchase Count  Average Purchase Price  Total Purchase Price  \\\n",
       "Age Groups                                                                 \n",
       "<10                     23                    3.35                 77.13   \n",
       "10-14                   28                    2.96                 82.78   \n",
       "15-19                  136                    3.04                412.89   \n",
       "20-24                  365                    3.05               1114.06   \n",
       "25-29                  101                    2.90                293.00   \n",
       "30-34                   73                    2.93                214.00   \n",
       "35-39                   41                    3.60                147.67   \n",
       "40+                     13                    2.94                 38.24   \n",
       "\n",
       "            Avg Total Price Per Person  \n",
       "Age Groups                              \n",
       "<10                               4.54  \n",
       "10-14                             3.76  \n",
       "15-19                             3.86  \n",
       "20-24                             4.32  \n",
       "25-29                             3.81  \n",
       "30-34                             4.12  \n",
       "35-39                             4.76  \n",
       "40+                               3.19  "
      ]
     },
     "execution_count": 105,
     "metadata": {},
     "output_type": "execute_result"
    }
   ],
   "source": [
    "df_purchase_analysis = pd.DataFrame({\"Purchase Count\": gb3[\"Age\"], \"Average Purchase Price\": avg_purchase_price,\n",
    "                                    \"Total Purchase Price\": total_purchase_price, \n",
    "                                    \"Avg Total Price Per Person\": list_avg_total_per_age})\n",
    "df_purchase_analysis"
   ]
  },
  {
   "cell_type": "code",
   "execution_count": null,
   "metadata": {},
   "outputs": [],
   "source": []
  },
  {
   "cell_type": "markdown",
   "metadata": {},
   "source": [
    "## Top Spenders"
   ]
  },
  {
   "cell_type": "markdown",
   "metadata": {},
   "source": [
    "* Run basic calculations to obtain the results in the table below\n",
    "\n",
    "\n",
    "* Create a summary data frame to hold the results\n",
    "\n",
    "\n",
    "* Sort the total purchase value column in descending order\n",
    "\n",
    "\n",
    "* Optional: give the displayed data cleaner formatting\n",
    "\n",
    "\n",
    "* Display a preview of the summary data frame\n",
    "\n"
   ]
  },
  {
   "cell_type": "code",
   "execution_count": 154,
   "metadata": {},
   "outputs": [],
   "source": [
    "# iterate through two dictionaries to store keys (screen name) and values (either number of purchases or total spent)\n",
    "# can use this later to create the data frame\n",
    "\n",
    "# grab list of unique names\n",
    "unique_names = list(purchase_data[\"SN\"].unique())\n",
    "\n",
    "# preallocate a dictionary with keys as screen name and values as zero\n",
    "purchase_count = {keys:0 for keys in unique_names}\n",
    "total = {keys:0 for keys in unique_names}\n",
    "\n",
    "# for every key in totals, pull a subset dataframe consisting of only that person's purchases and sum them\n",
    "for ii in range(0,len(purchase_data)):\n",
    "    # get screen name from row ii\n",
    "    screen_name = purchase_data[\"SN\"][ii]\n",
    "    \n",
    "    # number of purchases\n",
    "    purchase_count[screen_name] += 1\n",
    "    \n",
    "    # total\n",
    "    total[screen_name] += purchase_data[\"Price\"][ii]\n",
    "    "
   ]
  },
  {
   "cell_type": "code",
   "execution_count": 156,
   "metadata": {},
   "outputs": [
    {
     "data": {
      "text/html": [
       "<div>\n",
       "<style scoped>\n",
       "    .dataframe tbody tr th:only-of-type {\n",
       "        vertical-align: middle;\n",
       "    }\n",
       "\n",
       "    .dataframe tbody tr th {\n",
       "        vertical-align: top;\n",
       "    }\n",
       "\n",
       "    .dataframe thead th {\n",
       "        text-align: right;\n",
       "    }\n",
       "</style>\n",
       "<table border=\"1\" class=\"dataframe\">\n",
       "  <thead>\n",
       "    <tr style=\"text-align: right;\">\n",
       "      <th></th>\n",
       "      <th>Purchase Count</th>\n",
       "      <th>Average Purchase Price</th>\n",
       "      <th>Total Purchase Value</th>\n",
       "    </tr>\n",
       "  </thead>\n",
       "  <tbody>\n",
       "    <tr>\n",
       "      <th>Lisosia93</th>\n",
       "      <td>5</td>\n",
       "      <td>3.79</td>\n",
       "      <td>18.96</td>\n",
       "    </tr>\n",
       "    <tr>\n",
       "      <th>Idastidru52</th>\n",
       "      <td>4</td>\n",
       "      <td>3.86</td>\n",
       "      <td>15.45</td>\n",
       "    </tr>\n",
       "    <tr>\n",
       "      <th>Chamjask73</th>\n",
       "      <td>3</td>\n",
       "      <td>4.61</td>\n",
       "      <td>13.83</td>\n",
       "    </tr>\n",
       "    <tr>\n",
       "      <th>Iral74</th>\n",
       "      <td>4</td>\n",
       "      <td>3.40</td>\n",
       "      <td>13.62</td>\n",
       "    </tr>\n",
       "    <tr>\n",
       "      <th>Iskadarya95</th>\n",
       "      <td>3</td>\n",
       "      <td>4.37</td>\n",
       "      <td>13.10</td>\n",
       "    </tr>\n",
       "  </tbody>\n",
       "</table>\n",
       "</div>"
      ],
      "text/plain": [
       "             Purchase Count  Average Purchase Price  Total Purchase Value\n",
       "Lisosia93                 5                    3.79                 18.96\n",
       "Idastidru52               4                    3.86                 15.45\n",
       "Chamjask73                3                    4.61                 13.83\n",
       "Iral74                    4                    3.40                 13.62\n",
       "Iskadarya95               3                    4.37                 13.10"
      ]
     },
     "execution_count": 156,
     "metadata": {},
     "output_type": "execute_result"
    }
   ],
   "source": [
    "# construct data frame with dictionaries previously constructed\n",
    "df_top_spenders = pd.DataFrame({\"Purchase Count\": purchase_count,\"Total Purchase Value\": total})\n",
    "# calculate average purchase price column for dataframe\n",
    "df_top_spenders[\"Average Purchase Price\"] = np.round(df_top_spenders[\"Total Purchase Value\"] / df_top_spenders[\"Purchase Count\"] , decimals=2) \n",
    "# reorder columns\n",
    "df_top_spenders = df_top_spenders[[\"Purchase Count\", \"Average Purchase Price\", \"Total Purchase Value\"]]\n",
    "# sort Data Frame and print top 5 spenders\n",
    "df_top_spenders.sort_values(by=\"Total Purchase Value\",ascending=False).head(5)\n",
    "\n"
   ]
  },
  {
   "cell_type": "code",
   "execution_count": null,
   "metadata": {},
   "outputs": [],
   "source": []
  },
  {
   "cell_type": "code",
   "execution_count": null,
   "metadata": {},
   "outputs": [],
   "source": []
  },
  {
   "cell_type": "markdown",
   "metadata": {},
   "source": [
    "## Most Popular Items"
   ]
  },
  {
   "cell_type": "markdown",
   "metadata": {},
   "source": [
    "* Retrieve the Item ID, Item Name, and Item Price columns\n",
    "\n",
    "\n",
    "* Group by Item ID and Item Name. Perform calculations to obtain purchase count, item price, and total purchase value\n",
    "\n",
    "\n",
    "* Create a summary data frame to hold the results\n",
    "\n",
    "\n",
    "* Sort the purchase count column in descending order\n",
    "\n",
    "\n",
    "* Optional: give the displayed data cleaner formatting\n",
    "\n",
    "\n",
    "* Display a preview of the summary data frame\n",
    "\n"
   ]
  },
  {
   "cell_type": "code",
   "execution_count": null,
   "metadata": {},
   "outputs": [],
   "source": []
  },
  {
   "cell_type": "markdown",
   "metadata": {},
   "source": [
    "## Most Profitable Items"
   ]
  },
  {
   "cell_type": "markdown",
   "metadata": {},
   "source": [
    "* Sort the above table by total purchase value in descending order\n",
    "\n",
    "\n",
    "* Optional: give the displayed data cleaner formatting\n",
    "\n",
    "\n",
    "* Display a preview of the data frame\n",
    "\n"
   ]
  },
  {
   "cell_type": "code",
   "execution_count": null,
   "metadata": {
    "scrolled": true
   },
   "outputs": [],
   "source": []
  }
 ],
 "metadata": {
  "anaconda-cloud": {},
  "kernel_info": {
   "name": "python3"
  },
  "kernelspec": {
   "display_name": "Python 3",
   "language": "python",
   "name": "python3"
  },
  "language_info": {
   "codemirror_mode": {
    "name": "ipython",
    "version": 3
   },
   "file_extension": ".py",
   "mimetype": "text/x-python",
   "name": "python",
   "nbconvert_exporter": "python",
   "pygments_lexer": "ipython3",
   "version": "3.7.3"
  },
  "latex_envs": {
   "LaTeX_envs_menu_present": true,
   "autoclose": false,
   "autocomplete": true,
   "bibliofile": "biblio.bib",
   "cite_by": "apalike",
   "current_citInitial": 1,
   "eqLabelWithNumbers": true,
   "eqNumInitial": 1,
   "hotkeys": {
    "equation": "Ctrl-E",
    "itemize": "Ctrl-I"
   },
   "labels_anchors": false,
   "latex_user_defs": false,
   "report_style_numbering": false,
   "user_envs_cfg": false
  },
  "nteract": {
   "version": "0.2.0"
  }
 },
 "nbformat": 4,
 "nbformat_minor": 2
}
